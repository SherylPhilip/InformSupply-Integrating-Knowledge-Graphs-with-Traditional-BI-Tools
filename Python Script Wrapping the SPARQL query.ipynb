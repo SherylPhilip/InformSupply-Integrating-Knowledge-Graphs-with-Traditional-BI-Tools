{
 "cells": [
  {
   "cell_type": "code",
   "execution_count": 1,
   "metadata": {},
   "outputs": [
    {
     "name": "stdout",
     "output_type": "stream",
     "text": [
      "Requirement already satisfied: SPARQLWrapper in c:\\users\\bullwang\\miniconda3\\envs\\myenv\\lib\\site-packages (2.0.0)\n",
      "Requirement already satisfied: rdflib>=6.1.1 in c:\\users\\bullwang\\miniconda3\\envs\\myenv\\lib\\site-packages (from SPARQLWrapper) (7.0.0)\n",
      "Requirement already satisfied: isodate<0.7.0,>=0.6.0 in c:\\users\\bullwang\\miniconda3\\envs\\myenv\\lib\\site-packages (from rdflib>=6.1.1->SPARQLWrapper) (0.6.1)\n",
      "Requirement already satisfied: pyparsing<4,>=2.1.0 in c:\\users\\bullwang\\miniconda3\\envs\\myenv\\lib\\site-packages (from rdflib>=6.1.1->SPARQLWrapper) (3.0.9)\n",
      "Requirement already satisfied: six in c:\\users\\bullwang\\miniconda3\\envs\\myenv\\lib\\site-packages (from isodate<0.7.0,>=0.6.0->rdflib>=6.1.1->SPARQLWrapper) (1.16.0)\n"
     ]
    }
   ],
   "source": [
    "! pip install SPARQLWrapper"
   ]
  },
  {
   "cell_type": "code",
   "execution_count": 2,
   "metadata": {},
   "outputs": [],
   "source": [
    "from SPARQLWrapper import SPARQLWrapper, JSON\n",
    "import pandas as pd"
   ]
  },
  {
   "cell_type": "markdown",
   "metadata": {},
   "source": [
    "### Fact Table - Movie"
   ]
  },
  {
   "cell_type": "code",
   "execution_count": 32,
   "metadata": {},
   "outputs": [],
   "source": [
    "# Configure the SPARQL endpoint\n",
    "sparql = SPARQLWrapper(\"http://localhost:7200/repositories/movies\")\n",
    "sparql.setQuery(\"\"\"\n",
    "PREFIX rdf: <http://www.w3.org/1999/02/22-rdf-syntax-ns#>\n",
    "PREFIX schema: <http://schema.org/>\n",
    "PREFIX imdb: <http://academy.ontotext.com/imdb/>\n",
    "\n",
    "SELECT ?movie ?title ?genre ?commentCount ?countryName ?directorName ?leadActorName ?actorName\n",
    "WHERE {\n",
    "    # Select movies of type imdb:ColorMovie (or schema:Movie to include all movies)\n",
    "    ?movie rdf:type imdb:ColorMovie .  \n",
    "    \n",
    "    # Retrieve the title of the movie\n",
    "    ?movie schema:name ?title .\n",
    "    \n",
    "    # Retrieve genres for the movie as a list of literals\n",
    "    OPTIONAL {\n",
    "        ?movie schema:genre ?genreLiteral .\n",
    "        # Bind genreLiteral to genre if it is a literal, otherwise set as \"Unknown\"\n",
    "        BIND(IF(isLiteral(?genreLiteral), ?genreLiteral, \"Unknown\") AS ?genre)\n",
    "    }\n",
    "    \n",
    "    # Retrieve the comment count for the movie\n",
    "    OPTIONAL {\n",
    "        ?movie schema:commentCount ?commentCount .\n",
    "    }\n",
    "    \n",
    "    # Retrieve the country of origin for the movie\n",
    "    OPTIONAL {\n",
    "        ?movie schema:countryOfOrigin ?country .\n",
    "        ?country schema:name ?countryName .\n",
    "    }\n",
    "    \n",
    "    # Retrieve the director of the movie\n",
    "    OPTIONAL {\n",
    "        ?movie schema:director ?director .\n",
    "        ?director schema:name ?directorName .\n",
    "    }\n",
    "    \n",
    "    # Retrieve the lead actor for the movie\n",
    "    OPTIONAL {\n",
    "        ?movie imdb:leadActor ?leadActor .\n",
    "        ?leadActor schema:name ?leadActorName .\n",
    "    }\n",
    "    \n",
    "    # Retrieve all other actors for the movie\n",
    "    OPTIONAL {\n",
    "        ?movie schema:actor ?actor .\n",
    "        ?actor schema:name ?actorName .\n",
    "    }\n",
    "}\n",
    "\"\"\")\n",
    "sparql.setReturnFormat(JSON)\n",
    "results = sparql.query().convert()"
   ]
  },
  {
   "cell_type": "code",
   "execution_count": 33,
   "metadata": {},
   "outputs": [],
   "source": [
    "# Extract the results into a list of dictionaries\n",
    "data = []\n",
    "for result in results[\"results\"][\"bindings\"]:\n",
    "    row = {var: result[var][\"value\"] for var in result}\n",
    "    data.append(row)\n",
    "\n",
    "# Convert the list of dictionaries into a DataFrame\n",
    "df = pd.DataFrame(data)"
   ]
  },
  {
   "cell_type": "code",
   "execution_count": 35,
   "metadata": {},
   "outputs": [],
   "source": [
    "# Save to a CSV file\n",
    "df.to_csv('Movies (Fact Table).csv', index=False)"
   ]
  }
 ],
 "metadata": {
  "kernelspec": {
   "display_name": "myenv",
   "language": "python",
   "name": "python3"
  },
  "language_info": {
   "codemirror_mode": {
    "name": "ipython",
    "version": 3
   },
   "file_extension": ".py",
   "mimetype": "text/x-python",
   "name": "python",
   "nbconvert_exporter": "python",
   "pygments_lexer": "ipython3",
   "version": "3.10.13"
  }
 },
 "nbformat": 4,
 "nbformat_minor": 2
}
